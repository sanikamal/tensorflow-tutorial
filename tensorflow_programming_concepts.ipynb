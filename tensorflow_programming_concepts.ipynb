{
  "nbformat": 4,
  "nbformat_minor": 0,
  "metadata": {
    "colab": {
      "name": "tensorflow_programming_concepts.ipynb",
      "version": "0.3.2",
      "provenance": [],
      "collapsed_sections": [
        "JndnmDMp66FL",
        "Zep4W80H9awM"
      ],
      "toc_visible": true,
      "include_colab_link": true
    },
    "kernelspec": {
      "name": "python2",
      "display_name": "Python 2"
    }
  },
  "cells": [
    {
      "cell_type": "markdown",
      "metadata": {
        "id": "view-in-github",
        "colab_type": "text"
      },
      "source": [
        "<a href=\"https://colab.research.google.com/github/sanikamal/tensorflow-tutorial/blob/master/tensorflow_programming_concepts.ipynb\" target=\"_parent\"><img src=\"https://colab.research.google.com/assets/colab-badge.svg\" alt=\"Open In Colab\"/></a>"
      ]
    },
    {
      "metadata": {
        "colab_type": "text",
        "id": "rFpcvnCJ4Xkf"
      },
      "cell_type": "markdown",
      "source": [
        "# TensorFlow Programming Concepts"
      ]
    },
    {
      "metadata": {
        "colab_type": "text",
        "id": "9IkBOsrNzahz"
      },
      "cell_type": "markdown",
      "source": [
        "## Learning Objectives:\n",
        "  * The basics of the TensorFlow programming model.\n",
        "    * tensors\n",
        "    * operations\n",
        "    * graphs\n",
        "    * sessions\n",
        "  * Build a simple TensorFlow program that creates a default graph, and a session that runs the graph"
      ]
    },
    {
      "metadata": {
        "colab_type": "text",
        "id": "NzKsjX-ufyVY"
      },
      "cell_type": "markdown",
      "source": [
        "## Overview of Concepts\n",
        "\n",
        "TensorFlow gets its name from **tensors**, which are arrays of arbitrary dimensionality. Using TensorFlow, you can manipulate tensors with a very high number of dimensions. That said, most of the time you will work with one or more of the following low-dimensional tensors:\n",
        "\n",
        "  * A **scalar** is a 0-d array (a 0th-order tensor).  For example, `\"Sani\"` or `5`\n",
        "  * A **vector** is a 1-d array (a 1st-order tensor).  For example, `[2, 3, 5, 7, 11]` or `[5]`\n",
        "  * A **matrix** is a 2-d array (a 2nd-order tensor).  For example, `[[3.1, 8.2, 5.9][4.3, -2.7, 6.5]]`\n",
        "\n",
        "TensorFlow **operations** create, destroy, and manipulate tensors.  Most of the lines of code in a typical TensorFlow program are operations.\n",
        "\n",
        "A TensorFlow **graph** (also known as a **computational graph** or a **dataflow graph**) is, yes, a graph data structure.  A graph's nodes are operations (in TensorFlow, every operation is associated with a graph).  Many TensorFlow programs consist of a single graph, but TensorFlow programs may optionally create multiple graphs. A graph's nodes are operations; a graph's edges are tensors. Tensors flow through the graph, manipulated at each node by an operation. The output tensor of one operation often becomes the input tensor to a subsequent operation. TensorFlow implements a **lazy execution model,** meaning that nodes are only computed when needed, based on the needs of associated nodes.\n",
        "\n",
        "Tensors can be stored in the graph as **constants** or **variables**. As you might guess, constants hold tensors whose values can't change, while variables hold tensors whose values can change. However, what you may not have guessed is that constants and variables are just more operations in the graph. A constant is an operation that always returns the same tensor value. A variable is an operation that will return whichever tensor has been assigned to it.\n",
        "\n",
        "To define a constant, use the `tf.constant` operator and pass in its value. For example:\n",
        "\n",
        "```\n",
        "  x = tf.constant(7.2)\n",
        "```\n",
        "\n",
        "Similarly, you can create a variable like this:\n",
        "\n",
        "```\n",
        "  y = tf.Variable([7])\n",
        "```\n",
        "\n",
        "Or you can create the variable first and then subsequently assign a value like this (note that you always have to specify a default value):\n",
        "\n",
        "```\n",
        "  y = tf.Variable([0])\n",
        "  y = y.assign([8])\n",
        "```\n",
        "\n",
        "Once you've defined some constants or variables, you can combine them with other operations like `tf.add`. When you evaluate the `tf.add` operation, it will call your `tf.constant` or `tf.Variable` operations to get their values and then return a new tensor with the sum of those values.\n",
        "\n",
        "Graphs must run within a TensorFlow **session**, which holds the state for the graph(s) it runs:\n",
        "\n",
        "```\n",
        "with tf.Session() as sess:\n",
        "  initialization = tf.global_variables_initializer()\n",
        "  print(y.eval())\n",
        "```\n",
        "\n",
        "When working with `tf.Variable`s, you must explicitly initialize them by calling `tf.global_variables_initializer` at the start of your session.\n",
        "\n",
        "### Summary\n",
        "\n",
        "TensorFlow programming is essentially a two-step process:\n",
        "\n",
        "  1. Assemble constants, variables, and operations into a graph.\n",
        "  2. Evaluate those constants, variables and operations within a session.\n"
      ]
    },
    {
      "metadata": {
        "colab_type": "text",
        "id": "VL0yWNNdgBpG"
      },
      "cell_type": "markdown",
      "source": [
        "## Creating a Simple TensorFlow Program\n",
        "\n",
        "Let's look at how to code a simple TensorFlow program that adds two constants. "
      ]
    },
    {
      "metadata": {
        "colab_type": "text",
        "id": "mN4R0gmMzah3"
      },
      "cell_type": "markdown",
      "source": [
        "### Provide import statements\n",
        "\n",
        "As with nearly all Python programs, you'll begin by specifying some `import` statements.\n",
        "The set of `import` statements required to run a TensorFlow program depends, of course, on the features your program will access. At a minimum, you must provide the `import tensorflow` statement in all TensorFlow programs:"
      ]
    },
    {
      "metadata": {
        "colab_type": "code",
        "id": "SDbi6heigEGA",
        "colab": {}
      },
      "cell_type": "code",
      "source": [
        "import tensorflow as tf"
      ],
      "execution_count": 0,
      "outputs": []
    },
    {
      "metadata": {
        "colab_type": "text",
        "id": "6RRT4YIA4fQd"
      },
      "cell_type": "markdown",
      "source": [
        "**Don't forget to execute the preceding code block (the `import` statements).**\n",
        "\n",
        "Other common import statements include the following:\n",
        "\n",
        "```\n",
        "  import matplotlib.pyplot as plt # Dataset visualization.\n",
        "  import numpy as np              # Low-level numerical Python library.\n",
        "  import pandas as pd             # Higher-level numerical Python library.\n",
        "```"
      ]
    },
    {
      "metadata": {
        "colab_type": "text",
        "id": "1aNpvufRgbTD"
      },
      "cell_type": "markdown",
      "source": [
        "TensorFlow provides a **default graph**. However, we recommend explicitly creating your own `Graph` instead to facilitate tracking state (e.g., you may wish to work with a different `Graph` in each cell)."
      ]
    },
    {
      "metadata": {
        "colab_type": "code",
        "id": "Md8ze8e9geMi",
        "colab": {
          "base_uri": "https://localhost:8080/",
          "height": 34
        },
        "outputId": "c9175f7a-12d2-40e7-d357-42dd4ca1a0fa"
      },
      "cell_type": "code",
      "source": [
        "import tensorflow as tf\n",
        "\n",
        "# Create a graph.\n",
        "g = tf.Graph()\n",
        "\n",
        "# Establish the graph as the \"default\" graph.\n",
        "with g.as_default():\n",
        "  # Assemble a graph consisting of the following three operations:\n",
        "  #   * Two tf.constant operations to create the operands.\n",
        "  #   * One tf.add operation to add the two operands.\n",
        "    x = tf.constant(8, name=\"x_const\")\n",
        "    y = tf.constant(5, name=\"y_const\")\n",
        "    my_sum = tf.add(x, y, name=\"x_y_sum\")\n",
        "\n",
        "\n",
        "  # Now create a session.\n",
        "  # The session will run the default graph.\n",
        "    with tf.Session() as sess:\n",
        "        print(my_sum.eval())"
      ],
      "execution_count": 2,
      "outputs": [
        {
          "output_type": "stream",
          "text": [
            "13\n"
          ],
          "name": "stdout"
        }
      ]
    },
    {
      "metadata": {
        "id": "sZMp9lk58SSF",
        "colab_type": "code",
        "colab": {
          "base_uri": "https://localhost:8080/",
          "height": 34
        },
        "outputId": "50e7908d-09ba-4d0f-d4f2-78193c4081b1"
      },
      "cell_type": "code",
      "source": [
        "# Create a graph.\n",
        "g = tf.Graph()\n",
        "\n",
        "# Establish our graph as the \"default\" graph.\n",
        "with g.as_default():\n",
        "    # Assemble a graph consisting of three operations. \n",
        "    # (Creating a tensor is an operation.)\n",
        "    x = tf.constant(8, name=\"x_const\")\n",
        "    y = tf.constant(5, name=\"y_const\")\n",
        "    my_sum = tf.add(x, y, name=\"x_y_sum\")\n",
        "  \n",
        "    # Define a third scalar integer constant z.\n",
        "    z = tf.constant(4, name=\"z_const\")\n",
        "    # Add z to `my_sum` to yield a new sum.\n",
        "    new_sum = tf.add(my_sum, z, name=\"x_y_z_sum\")\n",
        "\n",
        "    # Now create a session.\n",
        "    # The session will run the default graph.\n",
        "    with tf.Session() as sess:\n",
        "        #Ensure the program yields the correct grand total.\n",
        "        print(new_sum.eval())"
      ],
      "execution_count": 3,
      "outputs": [
        {
          "output_type": "stream",
          "text": [
            "17\n"
          ],
          "name": "stdout"
        }
      ]
    }
  ]
}