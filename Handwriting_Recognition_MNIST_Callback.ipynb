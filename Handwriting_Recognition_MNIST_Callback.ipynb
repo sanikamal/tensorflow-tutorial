{
  "nbformat": 4,
  "nbformat_minor": 0,
  "metadata": {
    "colab": {
      "name": "Handwriting_Recognition_MNIST_Callback.ipynb",
      "version": "0.3.2",
      "provenance": [],
      "collapsed_sections": [],
      "include_colab_link": true
    },
    "kernelspec": {
      "name": "python3",
      "display_name": "Python 3"
    },
    "accelerator": "GPU"
  },
  "cells": [
    {
      "cell_type": "markdown",
      "metadata": {
        "id": "view-in-github",
        "colab_type": "text"
      },
      "source": [
        "<a href=\"https://colab.research.google.com/github/sanikamal/tensorflow-tutorial/blob/master/Handwriting_Recognition_MNIST_Callback.ipynb\" target=\"_parent\"><img src=\"https://colab.research.google.com/assets/colab-badge.svg\" alt=\"Open In Colab\"/></a>"
      ]
    },
    {
      "metadata": {
        "id": "tOoyQ70H00_s",
        "colab_type": "text"
      },
      "cell_type": "markdown",
      "source": [
        "The MNIST dataset  has items of handwriting -- the digits 0 through 9.\n"
      ]
    },
    {
      "metadata": {
        "id": "9rvXQGAA0ssC",
        "colab_type": "code",
        "colab": {
          "base_uri": "https://localhost:8080/",
          "height": 243
        },
        "outputId": "b8ae165e-9acd-4712-ec41-663e33915395"
      },
      "cell_type": "code",
      "source": [
        "import tensorflow as tf\n",
        "\n",
        "class myCallback(tf.keras.callbacks.Callback):\n",
        "    def on_epoch_end(self, epoch, logs={}):\n",
        "        if(logs.get('acc')>0.99):\n",
        "            print(\"\\nReached 99% accuracy so cancelling training!\")\n",
        "            self.model.stop_training = True\n",
        "            \n",
        "\n",
        "mnist = tf.keras.datasets.mnist\n",
        "\n",
        "(x_train, y_train),(x_test, y_test) = mnist.load_data()\n",
        "\n",
        "x_train =x_train /255.0\n",
        "x_test =x_test /255.0\n",
        "callbacks=myCallback()\n",
        "\n",
        "model = tf.keras.models.Sequential([\n",
        "    tf.keras.layers.Flatten(input_shape=(28,28)),\n",
        "    tf.keras.layers.Dense(512,activation=tf.nn.relu),\n",
        "    tf.keras.layers.Dense(10,activation=tf.nn.softmax)\n",
        "])\n",
        "\n",
        "model.compile(optimizer='adam',\n",
        "              loss='sparse_categorical_crossentropy',\n",
        "              metrics=['accuracy'])\n",
        "\n",
        "model.fit(x_train,y_train,epochs=10,callbacks=[callbacks])"
      ],
      "execution_count": 4,
      "outputs": [
        {
          "output_type": "stream",
          "text": [
            "Epoch 1/10\n",
            "60000/60000 [==============================] - 5s 90us/sample - loss: 0.2006 - acc: 0.9400\n",
            "Epoch 2/10\n",
            "60000/60000 [==============================] - 5s 83us/sample - loss: 0.0789 - acc: 0.9755\n",
            "Epoch 3/10\n",
            "60000/60000 [==============================] - 5s 85us/sample - loss: 0.0540 - acc: 0.9827\n",
            "Epoch 4/10\n",
            "60000/60000 [==============================] - 5s 84us/sample - loss: 0.0368 - acc: 0.9885\n",
            "Epoch 5/10\n",
            "59712/60000 [============================>.] - ETA: 0s - loss: 0.0276 - acc: 0.9914\n",
            "Reached 99% accuracy so cancelling training!\n",
            "60000/60000 [==============================] - 6s 99us/sample - loss: 0.0278 - acc: 0.9913\n"
          ],
          "name": "stdout"
        },
        {
          "output_type": "execute_result",
          "data": {
            "text/plain": [
              "<tensorflow.python.keras.callbacks.History at 0x7fd1880c3320>"
            ]
          },
          "metadata": {
            "tags": []
          },
          "execution_count": 4
        }
      ]
    },
    {
      "metadata": {
        "id": "O9Y3984-Zitz",
        "colab_type": "code",
        "colab": {}
      },
      "cell_type": "code",
      "source": [
        ""
      ],
      "execution_count": 0,
      "outputs": []
    }
  ]
}